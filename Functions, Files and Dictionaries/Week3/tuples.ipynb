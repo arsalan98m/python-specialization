{
 "cells": [
  {
   "cell_type": "code",
   "execution_count": 3,
   "metadata": {},
   "outputs": [
    {
     "name": "stdout",
     "output_type": "stream",
     "text": [
      "2009\n"
     ]
    }
   ],
   "source": [
    "julia = (\"Julia\",\"ROberts\",1967, \"Duplicity\",2009,\"Actress\",\"Atlanta\",\"Georgia\")\n",
    "\n",
    "# both are same\n",
    "julia = \"Julia\",\"Roberts\",1967, \"Duplicity\", 2009, \"Actress\",\"Atlanta\",\"Georgia\"\n",
    "print(julia[4])"
   ]
  },
  {
   "cell_type": "code",
   "execution_count": 4,
   "metadata": {},
   "outputs": [],
   "source": [
    "practice = ('y','h','z','x')"
   ]
  },
  {
   "cell_type": "code",
   "execution_count": 5,
   "metadata": {},
   "outputs": [],
   "source": [
    "tup1 = ('a','b','c')"
   ]
  },
  {
   "cell_type": "code",
   "execution_count": 6,
   "metadata": {},
   "outputs": [
    {
     "name": "stdout",
     "output_type": "stream",
     "text": [
      "(62.8318, 314.159)\n"
     ]
    }
   ],
   "source": [
    "def circleInfo(r):\n",
    "    c = 2 * 3.14159 * r\n",
    "    a = 3.14159 * r * r\n",
    "    return (c,a)\n",
    "\n",
    "print(circleInfo(10))"
   ]
  },
  {
   "cell_type": "code",
   "execution_count": 7,
   "metadata": {},
   "outputs": [
    {
     "name": "stdout",
     "output_type": "stream",
     "text": [
      "(62.8318, 314.159)\n"
     ]
    }
   ],
   "source": [
    "def circleInfo(r):\n",
    "    c = 2 * 3.14159 * r\n",
    "    a = 3.14159 * r * r\n",
    "    return c,a\n",
    "\n",
    "print(circleInfo(10))"
   ]
  },
  {
   "cell_type": "code",
   "execution_count": 10,
   "metadata": {},
   "outputs": [
    {
     "name": "stdout",
     "output_type": "stream",
     "text": [
      "(62.8318, 314.159)\n",
      "62.8318\n",
      "314.159\n",
      "282.74309999999997\n",
      "6361.719749999999\n"
     ]
    }
   ],
   "source": [
    "def circleInfo(r):\n",
    "    c = 2 * 3.14159 * r\n",
    "    a = 3.14159 * r * r\n",
    "    return (c,a)\n",
    "\n",
    "print(circleInfo(10))\n",
    "\n",
    "circumference, area = circleInfo(10)\n",
    "print(circumference)\n",
    "print(area)\n",
    "\n",
    "\n",
    "circumference_two, area_two = circleInfo(45)\n",
    "print(circumference_two)\n",
    "print(area_two)"
   ]
  },
  {
   "cell_type": "code",
   "execution_count": 13,
   "metadata": {},
   "outputs": [
    {
     "data": {
      "text/plain": [
       "'Julia'"
      ]
     },
     "execution_count": 13,
     "metadata": {},
     "output_type": "execute_result"
    }
   ],
   "source": [
    "julia = \"Julia\",\"Roberts\",1967, \"Duplicity\", 2009, \"Actress\",\"Atlanta\"\n",
    "\n",
    "name,surname,birth_year,movie,movie_year,profession,birth_place=julia\n",
    "\n",
    "name"
   ]
  },
  {
   "cell_type": "code",
   "execution_count": 14,
   "metadata": {},
   "outputs": [],
   "source": [
    "a,b,c,d = 1,2,3,4"
   ]
  },
  {
   "cell_type": "code",
   "execution_count": 15,
   "metadata": {},
   "outputs": [
    {
     "data": {
      "text/plain": [
       "2"
      ]
     },
     "execution_count": 15,
     "metadata": {},
     "output_type": "execute_result"
    }
   ],
   "source": [
    "b"
   ]
  },
  {
   "cell_type": "code",
   "execution_count": 20,
   "metadata": {},
   "outputs": [
    {
     "name": "stdout",
     "output_type": "stream",
     "text": [
      "7\n",
      "9\n"
     ]
    }
   ],
   "source": [
    "def add(x, y):\n",
    "    return x + y\n",
    "\n",
    "print(add(3,4))\n",
    "z = (5,4)\n",
    "print(add(*z))\n",
    "#print(add(z))"
   ]
  },
  {
   "cell_type": "code",
   "execution_count": 24,
   "metadata": {},
   "outputs": [
    {
     "name": "stdout",
     "output_type": "stream",
     "text": [
      "('k1', 3)\n",
      "key: k1, value: 3\n",
      "('k2', 7)\n",
      "key: k2, value: 7\n",
      "('k3', 'some other value')\n",
      "key: k3, value: some other value\n"
     ]
    }
   ],
   "source": [
    "d = {'k1':3, 'k2': 7, 'k3': \"some other value\"}\n",
    "\n",
    "for p in d.items():\n",
    "    #print(p)\n",
    "    print(\"key: {}, value: {}\".format(p[0],p[1]))"
   ]
  },
  {
   "cell_type": "code",
   "execution_count": 26,
   "metadata": {},
   "outputs": [
    {
     "name": "stdout",
     "output_type": "stream",
     "text": [
      "3\n",
      "4\n",
      "<class 'int'>\n",
      "<class 'int'>\n"
     ]
    }
   ],
   "source": [
    "x,y = [3,4]\n",
    "print(x)\n",
    "print(y)\n",
    "print(type(x))\n",
    "print(type(y))"
   ]
  },
  {
   "cell_type": "code",
   "execution_count": 27,
   "metadata": {},
   "outputs": [
    {
     "name": "stdout",
     "output_type": "stream",
     "text": [
      "2 1 1\n"
     ]
    }
   ],
   "source": [
    "a = 1\n",
    "b = 2\n",
    "temp = a\n",
    "a = b\n",
    "b = temp\n",
    "print(a, b, temp)"
   ]
  },
  {
   "cell_type": "code",
   "execution_count": 29,
   "metadata": {},
   "outputs": [
    {
     "name": "stdout",
     "output_type": "stream",
     "text": [
      "2 1\n"
     ]
    }
   ],
   "source": [
    "a = 1\n",
    "b = 2\n",
    "(a,b) = (b,a)\n",
    "print(a,b)"
   ]
  },
  {
   "cell_type": "code",
   "execution_count": 30,
   "metadata": {},
   "outputs": [
    {
     "name": "stdout",
     "output_type": "stream",
     "text": [
      "first name:  Paul last name: Resnick\n",
      "first name:  Brad last name: Miller\n"
     ]
    }
   ],
   "source": [
    "authors = [('Paul', 'Resnick'), ('Brad', 'Miller')]\n",
    "\n",
    "for first_name, last_name in authors:\n",
    "    print(\"first name: \",first_name, \"last name:\",last_name)"
   ]
  },
  {
   "cell_type": "code",
   "execution_count": 31,
   "metadata": {},
   "outputs": [
    {
     "name": "stdout",
     "output_type": "stream",
     "text": [
      "0 apple\n",
      "1 pear\n",
      "2 orange\n",
      "3 mango\n"
     ]
    }
   ],
   "source": [
    "fruits = ['apple','pear','orange','mango']\n",
    "for n in range(len(fruits)):\n",
    "    print(n, fruits[n])"
   ]
  },
  {
   "cell_type": "code",
   "execution_count": 33,
   "metadata": {},
   "outputs": [
    {
     "name": "stdout",
     "output_type": "stream",
     "text": [
      "0 apple\n",
      "1 pear\n",
      "2 orange\n",
      "3 mango\n"
     ]
    }
   ],
   "source": [
    "fruits = ['apple','pear','orange','mango']\n",
    "for item in enumerate(fruits):\n",
    "    print(item[0],item[1])"
   ]
  },
  {
   "cell_type": "code",
   "execution_count": 34,
   "metadata": {},
   "outputs": [
    {
     "name": "stdout",
     "output_type": "stream",
     "text": [
      "0 apple\n",
      "1 pear\n",
      "2 orange\n",
      "3 mango\n"
     ]
    }
   ],
   "source": [
    "fruits = ['apple','pear','orange','mango']\n",
    "\n",
    "for idx, fruit in enumerate(fruits):\n",
    "    print(idx, fruit)"
   ]
  },
  {
   "cell_type": "code",
   "execution_count": null,
   "metadata": {},
   "outputs": [],
   "source": []
  }
 ],
 "metadata": {
  "kernelspec": {
   "display_name": "Python 3",
   "language": "python",
   "name": "python3"
  },
  "language_info": {
   "codemirror_mode": {
    "name": "ipython",
    "version": 3
   },
   "file_extension": ".py",
   "mimetype": "text/x-python",
   "name": "python",
   "nbconvert_exporter": "python",
   "pygments_lexer": "ipython3",
   "version": "3.7.3"
  }
 },
 "nbformat": 4,
 "nbformat_minor": 2
}
