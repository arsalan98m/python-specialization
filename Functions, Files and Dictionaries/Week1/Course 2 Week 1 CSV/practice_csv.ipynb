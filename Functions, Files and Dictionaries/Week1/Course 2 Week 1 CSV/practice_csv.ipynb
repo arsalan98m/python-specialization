{
 "cells": [
  {
   "cell_type": "code",
   "execution_count": 7,
   "metadata": {},
   "outputs": [
    {
     "name": "stdout",
     "output_type": "stream",
     "text": [
      "Name,Sex,Age,Team,Event,Medal\n",
      "A Dijiang,M,24,China,Basketball,NA\n",
      "A Lamusi,M,23,China,Judo,NA\n",
      "Gunnar Nielsen Aaby,M,24,Denmark,Football,NA\n",
      "Edgar Lindenau Aabye,M,34,Denmark/Sweden,Tug-Of-War,Gold\n",
      "Christine Jacoba Aaftink,F,21,Netherlands,Speed Skating,NA\n",
      "---------------------------\n",
      "['Name', 'Sex', 'Age', 'Team', 'Event', 'Medal']\n",
      "Edgar Lindenau Aabye: Tug-Of-War; Gold\n",
      "Arvo Ossian Aaltonen: Swimming; Bronze\n",
      "Arvo Ossian Aaltonen: Swimming; Bronze\n",
      "Juhamatti Tapio Aaltonen: Ice Hockey; Bronze\n",
      "Paavo Johannes Aaltonen: Gymnastics; Bronze\n",
      "Paavo Johannes Aaltonen: Gymnastics; Gold\n",
      "Paavo Johannes Aaltonen: Gymnastics; Gold\n",
      "Paavo Johannes Aaltonen: Gymnastics; Gold\n",
      "Paavo Johannes Aaltonen: Gymnastics; Bronze\n"
     ]
    }
   ],
   "source": [
    "fileconnection = open(\"olympics.txt\",\"r\")\n",
    "lines = fileconnection.readlines()\n",
    "for lin in lines[:6]:\n",
    "    print(lin.strip())\n",
    "    \n",
    "print(\"---------------------------\")\n",
    "header = lines[0]\n",
    "field_names = header.strip().split(\",\")\n",
    "print(field_names)\n",
    "for row in lines[1:]:\n",
    "    vals = row.strip().split(',')\n",
    "    if vals[5] != \"NA\":\n",
    "        print(\"{}: {}; {}\".format(vals[0],vals[4],vals[5]))"
   ]
  },
  {
   "cell_type": "code",
   "execution_count": 25,
   "metadata": {},
   "outputs": [],
   "source": [
    "grades = [(\"noman\",\"A+\",\"90\"),(\"adil\",\"B\",\"60\"),(\"imran\",\"A\",\"70\"),\n",
    "          (\"uzair\",\"A+\",\"91\"),(\"rizwan\",\"C\",\"50\")]\n",
    "\n",
    "output_file = open(\"grades.csv\",\"w\")\n",
    "\n",
    "output_file.write('\"Name\",\"Grade\",\"Marks\"')\n",
    "output_file.write('\\n')\n",
    "\n",
    "for grade in grades:\n",
    "    # row_string = \",\".join(grade)\n",
    "    # row_string = \",\".join([grade[0],str(grade[1]),str(grade[2])])\n",
    "    row_string = ' \"{}\",\"{}\",\"{}\"'.format(grade[0],grade[1],grade[2])\n",
    "    output_file.write(row_string)\n",
    "    output_file.write(\"\\n\")\n",
    "\n",
    "output_file.close()"
   ]
  },
  {
   "cell_type": "code",
   "execution_count": null,
   "metadata": {},
   "outputs": [],
   "source": []
  }
 ],
 "metadata": {
  "kernelspec": {
   "display_name": "Python 3",
   "language": "python",
   "name": "python3"
  },
  "language_info": {
   "codemirror_mode": {
    "name": "ipython",
    "version": 3
   },
   "file_extension": ".py",
   "mimetype": "text/x-python",
   "name": "python",
   "nbconvert_exporter": "python",
   "pygments_lexer": "ipython3",
   "version": "3.7.3"
  }
 },
 "nbformat": 4,
 "nbformat_minor": 2
}
