{
 "cells": [
  {
   "cell_type": "code",
   "execution_count": 13,
   "metadata": {},
   "outputs": [
    {
     "name": "stdout",
     "output_type": "stream",
     "text": [
      "Name,Sex,Age,Team,Event,Medal\n",
      "A Dijiang,M,24,China,Basketball,NA\n",
      "A Lamusi,M,23,China,Judo,NA\n",
      "Gunnar Nielsen Aaby,M,24,Denmark,Football,NA\n",
      "Edgar Lindenau Aabye,M,34,Denmark/Sweden,Tug-Of-War,Gold\n",
      "Christine Jacoba Aaftink,F,21,Netherlands,Speed Skating,NA\n"
     ]
    }
   ],
   "source": [
    "fileconnection = open(\"olympics.txt\",\"r\")\n",
    "\n",
    "lines = fileconnection.readlines()\n",
    "for lin in lines[:6]:\n",
    "    print(lin.strip())"
   ]
  },
  {
   "cell_type": "code",
   "execution_count": 14,
   "metadata": {},
   "outputs": [
    {
     "name": "stdout",
     "output_type": "stream",
     "text": [
      "['Name', 'Sex', 'Age', 'Team', 'Event', 'Medal']\n",
      "Edgar Lindenau Aabye: Tug-Of-War; Gold\n",
      "Arvo Ossian Aaltonen: Swimming; Bronze\n",
      "Arvo Ossian Aaltonen: Swimming; Bronze\n",
      "Juhamatti Tapio Aaltonen: Ice Hockey; Bronze\n",
      "Paavo Johannes Aaltonen: Gymnastics; Bronze\n",
      "Paavo Johannes Aaltonen: Gymnastics; Gold\n",
      "Paavo Johannes Aaltonen: Gymnastics; Gold\n",
      "Paavo Johannes Aaltonen: Gymnastics; Gold\n",
      "Paavo Johannes Aaltonen: Gymnastics; Bronze\n"
     ]
    }
   ],
   "source": [
    "header = lines[0]\n",
    "field_names = header.strip().split(\",\")\n",
    "print(field_names)\n",
    "for row in lines[1:]:\n",
    "    vals = row.strip().split(\",\")\n",
    "    if vals[5] != \"NA\":\n",
    "        print(\"{}: {}; {}\".format(vals[0],vals[4],vals[5]))"
   ]
  },
  {
   "cell_type": "code",
   "execution_count": 21,
   "metadata": {},
   "outputs": [
    {
     "name": "stdout",
     "output_type": "stream",
     "text": [
      "Name,Age,Sport\n",
      "Danish,31,Cross Country Skiing\n",
      "Minhaj,30,Sailing\n",
      "Jamshaid,54,Art Competition\n",
      "Ali,18,Cycling\n"
     ]
    }
   ],
   "source": [
    "olympians = [(\"danish\",31,\"Cross Country Skiing\"),(\"minhaj\",30,\"sailing\"),\n",
    "            (\"jamshaid\",54,\"art competition\"),(\"ali\",18,\"cycling\")]\n",
    "\n",
    "#output the header row\n",
    "header_row = 'Name,Age,Sport'\n",
    "print(header_row)\n",
    "#output each of the rows\n",
    "for olympian in olympians:\n",
    "    row_string = '{},{},{}'.format(olympian[0].title(),olympian[1],olympian[2].title())\n",
    "    print(row_string)"
   ]
  },
  {
   "cell_type": "code",
   "execution_count": 37,
   "metadata": {},
   "outputs": [],
   "source": [
    "# writing data on csv\n",
    "olympians = [(\"danish\",31,\"Cross Country Skiing\"),(\"minhaj\",30,\"sailing\"),\n",
    "            (\"jamshaid\",54,\"art competition\"),(\"ali\",18,\"cycling\")]\n",
    "\n",
    "outfile = open(\"reduced_olympians.csv\",\"w\")\n",
    "\n",
    "# output the header row\n",
    "outfile.write('\"Name\",\"Age\",\"Sport\"')\n",
    "outfile.write(\"\\n\")\n",
    "\n",
    "#output each of the rows\n",
    "for olympian in olympians:\n",
    "    # row_string = \",\".join([olympian[0].title(),str(olympian[1]),olympian[2].title()])\n",
    "    row_string = '\"{}\",\"{}\",\"{}\"'.format(olympian[0].title(),olympian[1],olympian[2].title())\n",
    "    #row_string = olympian[0] + \",\" + str(olympian[1]) + \",\" + olympian[2]\n",
    "    outfile.write(row_string)\n",
    "    outfile.write(\"\\n\")\n",
    "outfile.close()\n"
   ]
  },
  {
   "cell_type": "code",
   "execution_count": null,
   "metadata": {},
   "outputs": [],
   "source": []
  }
 ],
 "metadata": {
  "kernelspec": {
   "display_name": "Python 3",
   "language": "python",
   "name": "python3"
  },
  "language_info": {
   "codemirror_mode": {
    "name": "ipython",
    "version": 3
   },
   "file_extension": ".py",
   "mimetype": "text/x-python",
   "name": "python",
   "nbconvert_exporter": "python",
   "pygments_lexer": "ipython3",
   "version": "3.7.3"
  }
 },
 "nbformat": 4,
 "nbformat_minor": 2
}
