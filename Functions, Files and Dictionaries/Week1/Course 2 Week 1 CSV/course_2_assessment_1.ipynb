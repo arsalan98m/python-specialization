{
 "cells": [
  {
   "cell_type": "markdown",
   "metadata": {},
   "source": [
    "The textfile, travel_plans.txt, contains the summer travel plans for someone with some commentary. Find the total number of characters in the file and save to the variable num."
   ]
  },
  {
   "cell_type": "code",
   "execution_count": 2,
   "metadata": {},
   "outputs": [
    {
     "name": "stdout",
     "output_type": "stream",
     "text": [
      "60\n"
     ]
    }
   ],
   "source": [
    "f = open('travel_plans.txt', 'r')\n",
    "contents = f.read()\n",
    "num = len(contents)\n",
    "print(num)\n",
    "f.close()"
   ]
  },
  {
   "cell_type": "markdown",
   "metadata": {},
   "source": [
    "We have provided a file called emotion_words.txt that contains lines of words that describe emotions. Find the total number of words in the file and assign this value to the variable num_words."
   ]
  },
  {
   "cell_type": "code",
   "execution_count": 16,
   "metadata": {},
   "outputs": [
    {
     "name": "stdout",
     "output_type": "stream",
     "text": [
      "number of words: 48\n"
     ]
    }
   ],
   "source": [
    "num_words = 0\n",
    "file_obj =  open('emotion_words.txt', 'r')\n",
    "for line in file_obj:\n",
    "     num_words += len(line.split())\n",
    "print(\"number of words:\",num_words)"
   ]
  },
  {
   "cell_type": "markdown",
   "metadata": {},
   "source": [
    "Assign to the variable num_lines the number of lines in the file school_prompt.txt."
   ]
  },
  {
   "cell_type": "code",
   "execution_count": 22,
   "metadata": {},
   "outputs": [
    {
     "name": "stdout",
     "output_type": "stream",
     "text": [
      "Total number of lines: 7\n"
     ]
    }
   ],
   "source": [
    "# school wali file nhi hai yeh chala rah hoon \n",
    "with open('emotion_words.txt', 'r') as file_obj:\n",
    "    lines = file_obj.readlines()\n",
    "    num_lines = len(lines)\n",
    "print(\"Total number of lines:\",num_lines)"
   ]
  },
  {
   "cell_type": "markdown",
   "metadata": {},
   "source": [
    "Assign the first 30 characters of school_prompt.txt as a string to the variable beginning_chars.\n"
   ]
  },
  {
   "cell_type": "code",
   "execution_count": 25,
   "metadata": {},
   "outputs": [],
   "source": [
    "with open('emotion_words.txt', 'r') as file_obj:\n",
    "    content = file_obj.read()\n",
    "    beginning_chars = content[0:30]"
   ]
  },
  {
   "cell_type": "markdown",
   "metadata": {},
   "source": [
    "Challenge: Using the file school_prompt.txt, assign the third word of every line to a list called three."
   ]
  },
  {
   "cell_type": "code",
   "execution_count": 28,
   "metadata": {},
   "outputs": [
    {
     "name": "stdout",
     "output_type": "stream",
     "text": [
      "['blue', 'enraged', 'content', 'puzzled', 'thrilled', 'fearful', 'jittery']\n"
     ]
    }
   ],
   "source": [
    "three = []\n",
    "with open('emotion_words.txt', 'r') as file_obj:\n",
    "    for word in file_obj:\n",
    "        three.append(\",\".join(word.split()[2:3]))\n",
    "print(three)"
   ]
  },
  {
   "cell_type": "markdown",
   "metadata": {},
   "source": [
    "Challenge: Create a list called emotions that contains the first word of every line in emotion_words.txt."
   ]
  },
  {
   "cell_type": "code",
   "execution_count": 29,
   "metadata": {},
   "outputs": [
    {
     "name": "stdout",
     "output_type": "stream",
     "text": [
      "['Sad', 'Angry', 'Happy', 'Confused', 'Excited', 'Scared', 'Nervous']\n"
     ]
    }
   ],
   "source": [
    "emotions = []\n",
    "\n",
    "with open('emotion_words.txt', 'r') as file_obj:\n",
    "    for word in file_obj:\n",
    "        emotions.append(\",\".join(word.split()[0:1]))\n",
    "print(emotions)"
   ]
  },
  {
   "cell_type": "markdown",
   "metadata": {},
   "source": [
    "Assign the first 33 characters from the textfile, travel_plans.txt to the variable first_chars."
   ]
  },
  {
   "cell_type": "code",
   "execution_count": 31,
   "metadata": {},
   "outputs": [
    {
     "name": "stdout",
     "output_type": "stream",
     "text": [
      "aljsajskljskldjflkasjflkjas;lf\n",
      "sa\n"
     ]
    }
   ],
   "source": [
    "with open('travel_plans.txt', 'r') as file_obj:\n",
    "    contents = file_obj.read()\n",
    "    first_chars = contents[:33]\n",
    "print(first_chars)"
   ]
  },
  {
   "cell_type": "markdown",
   "metadata": {},
   "source": [
    "Challenge: Using the file school_prompt.txt, if the character ‘p’ is in a word, then add the word to a list called p_words."
   ]
  },
  {
   "cell_type": "code",
   "execution_count": 73,
   "metadata": {},
   "outputs": [
    {
     "name": "stdout",
     "output_type": "stream",
     "text": [
      "['upset', 'Happy', 'puzzled', 'perplexed', 'panicked', 'petrified', 'jumpy', 'apprehensive']\n"
     ]
    }
   ],
   "source": [
    "p_words = []\n",
    " \n",
    "with open('emotion_words.txt', 'r') as file_obj:\n",
    "    words = file_obj.read().split()\n",
    "    for word in words:\n",
    "        if 'p' in word:\n",
    "            p_words.append(word)\n",
    "print(p_words)\n",
    "        \n",
    "            "
   ]
  },
  {
   "cell_type": "code",
   "execution_count": 47,
   "metadata": {},
   "outputs": [
    {
     "name": "stdout",
     "output_type": "stream",
     "text": [
      "pinky\n",
      "pankash\n"
     ]
    }
   ],
   "source": [
    "word = [\"ahad\",\"pinky\",\"pankash\",\"junaid\"]\n",
    "\n",
    "for elem in word:\n",
    "    if 'p' in elem:\n",
    "        print(elem)"
   ]
  },
  {
   "cell_type": "code",
   "execution_count": null,
   "metadata": {},
   "outputs": [],
   "source": []
  }
 ],
 "metadata": {
  "kernelspec": {
   "display_name": "Python 3",
   "language": "python",
   "name": "python3"
  },
  "language_info": {
   "codemirror_mode": {
    "name": "ipython",
    "version": 3
   },
   "file_extension": ".py",
   "mimetype": "text/x-python",
   "name": "python",
   "nbconvert_exporter": "python",
   "pygments_lexer": "ipython3",
   "version": "3.7.3"
  }
 },
 "nbformat": 4,
 "nbformat_minor": 2
}
