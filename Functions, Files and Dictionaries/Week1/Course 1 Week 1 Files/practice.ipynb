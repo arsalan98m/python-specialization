{
 "cells": [
  {
   "cell_type": "code",
   "execution_count": 7,
   "metadata": {},
   "outputs": [
    {
     "name": "stdout",
     "output_type": "stream",
     "text": [
      "Na\n"
     ]
    }
   ],
   "source": [
    "fileref = open(\"olympics.txt\",\"r\")\n",
    "contents = fileref.read()\n",
    "print(contents[:2])\n",
    "fileref.close()"
   ]
  },
  {
   "cell_type": "code",
   "execution_count": 9,
   "metadata": {},
   "outputs": [
    {
     "name": "stdout",
     "output_type": "stream",
     "text": [
      "['Name,Sex,Age,Team,Event,Medal\\n', 'A Dijiang,M,24,China,Basketball,NA\\n']\n"
     ]
    }
   ],
   "source": [
    "fileref = open(\"olympics.txt\",'r')\n",
    "lines = fileref.readlines()\n",
    "print(lines[:2])\n",
    "fileref.close()"
   ]
  },
  {
   "cell_type": "code",
   "execution_count": 10,
   "metadata": {},
   "outputs": [
    {
     "name": "stdout",
     "output_type": "stream",
     "text": [
      "Name,Roll_no,Course\n",
      "Abid,1212,AI\n",
      "Shaka,1213,CNC\n",
      "Imran,1214,Graphic Design\n",
      "Owais,1215,Ms Office\n",
      "Umair,1216,Blockchain\n",
      "Raza,1217,AI\n"
     ]
    }
   ],
   "source": [
    "fileref = open(\"data.txt\",\"r\")\n",
    "con = fileref.read()\n",
    "print(con)\n",
    "fileref.close()"
   ]
  },
  {
   "cell_type": "code",
   "execution_count": 11,
   "metadata": {},
   "outputs": [
    {
     "name": "stdout",
     "output_type": "stream",
     "text": [
      "['Name,Roll_no,Course\\n', 'Abid,1212,AI\\n', 'Shaka,1213,CNC\\n', 'Imran,1214,Graphic Design\\n', 'Owais,1215,Ms Office\\n', 'Umair,1216,Blockchain\\n', 'Raza,1217,AI']\n"
     ]
    }
   ],
   "source": [
    "fileref = open(\"data.txt\",\"r\")\n",
    "lines = fileref.readlines()\n",
    "print(lines)\n",
    "fileref.close()"
   ]
  },
  {
   "cell_type": "code",
   "execution_count": 19,
   "metadata": {},
   "outputs": [
    {
     "name": "stdout",
     "output_type": "stream",
     "text": [
      "['Name', 'Roll_no', 'Course\\n']\n",
      "['Abid', '1212', 'AI\\n']\n"
     ]
    }
   ],
   "source": [
    "fileref = open(\"data.txt\",\"r\")\n",
    "lines = fileref.readlines()\n",
    "for elem in lines[:2]:\n",
    "    print(elem.split(\",\"))"
   ]
  },
  {
   "cell_type": "code",
   "execution_count": 21,
   "metadata": {},
   "outputs": [
    {
     "name": "stdout",
     "output_type": "stream",
     "text": [
      "Name,Roll_no,Course\n",
      "Abid,1212,AI\n",
      "Shaka,1213,CNC\n",
      "Imran,1214,Graphic Design\n",
      "Owais,1215,Ms Office\n",
      "Umair,1216,Blockchain\n",
      "Raza,1217,AI\n"
     ]
    }
   ],
   "source": [
    "fileref = open(\"data.txt\",\"r\")\n",
    "for elem in fileref:\n",
    "    print(elem.strip())\n",
    "fileref.close()"
   ]
  },
  {
   "cell_type": "code",
   "execution_count": 26,
   "metadata": {},
   "outputs": [
    {
     "name": "stdout",
     "output_type": "stream",
     "text": [
      "7\n"
     ]
    }
   ],
   "source": [
    "fileref = open(\"data.txt\",\"r\")\n",
    "contents = fileref.readlines()\n",
    "print(len(contents))\n",
    "fileref.close()"
   ]
  },
  {
   "cell_type": "code",
   "execution_count": 43,
   "metadata": {},
   "outputs": [
    {
     "name": "stdout",
     "output_type": "stream",
     "text": [
      "Abid is enrolled in AI course and his roll 1212\n",
      "Shaka is enrolled in CNC course and his roll 1213\n",
      "Imran is enrolled in Graphic Design course and his roll 1214\n",
      "Owais is enrolled in Ms Office course and his roll 1215\n",
      "Umair is enrolled in Blockchain course and his roll 1216\n",
      "Raza is enrolled in AI course and his roll 1217\n"
     ]
    }
   ],
   "source": [
    "file = open(\"data.txt\",\"r\")\n",
    "\n",
    "for aline in file.readlines()[1:]:\n",
    "    values = aline.strip().split(\",\")\n",
    "    print(values[0]+\" is enrolled in \"+values[2]+\" course and his roll \"+str(values[1]))\n",
    "file.close()"
   ]
  },
  {
   "cell_type": "code",
   "execution_count": 45,
   "metadata": {},
   "outputs": [
    {
     "name": "stdout",
     "output_type": "stream",
     "text": [
      "1\n",
      "4\n",
      "9\n",
      "16\n",
      "25\n",
      "36\n",
      "49\n",
      "64\n",
      "81\n",
      "100\n",
      "121\n",
      "144\n"
     ]
    }
   ],
   "source": [
    "for number in range(1,13):\n",
    "    square = number * number\n",
    "    print(square)"
   ]
  },
  {
   "cell_type": "code",
   "execution_count": 54,
   "metadata": {},
   "outputs": [],
   "source": [
    "file_obj = open(\"data2.txt\",\"w\")\n",
    "for number in range(13):\n",
    "    square = number * number\n",
    "    file_obj.write(str(square) + \"\\n\")\n",
    "    #file_obj.write(\"\\n\")\n",
    "file_obj.close()\n",
    "\n"
   ]
  },
  {
   "cell_type": "code",
   "execution_count": 55,
   "metadata": {},
   "outputs": [
    {
     "name": "stdout",
     "output_type": "stream",
     "text": [
      "0\n",
      "1\n",
      "4\n",
      "9\n",
      "16\n"
     ]
    }
   ],
   "source": [
    "new_file_obj = open(\"data2.txt\",\"r\")\n",
    "print(new_file_obj.read()[:10])"
   ]
  },
  {
   "cell_type": "code",
   "execution_count": 59,
   "metadata": {},
   "outputs": [
    {
     "name": "stdout",
     "output_type": "stream",
     "text": [
      "Name,Roll_no,Course\n",
      "\n",
      "Abid,1212,AI\n",
      "\n",
      "Shaka,1213,CNC\n",
      "\n",
      "Imran,1214,Graphic Design\n",
      "\n",
      "Owais,1215,Ms Office\n",
      "\n",
      "Umair,1216,Blockchain\n",
      "\n",
      "Raza,1217,AI\n"
     ]
    }
   ],
   "source": [
    "fname = \"data.txt\"\n",
    "with open(fname,\"r\") as md:\n",
    "    for line in md:\n",
    "        print(line)"
   ]
  },
  {
   "cell_type": "code",
   "execution_count": 61,
   "metadata": {},
   "outputs": [
    {
     "name": "stdout",
     "output_type": "stream",
     "text": [
      "Name,Roll_no,Course\n",
      "Abid,1212,AI\n",
      "Shaka,1213,CNC\n",
      "Imran,1214,Graphic Design\n",
      "Owais,1215,Ms Office\n",
      "Umair,1216,Blockchain\n",
      "Raza,1217,AI\n"
     ]
    }
   ],
   "source": [
    "fname = \"data.txt\"\n",
    "with open(fname, \"r\") as md:\n",
    "    line = md.readlines()\n",
    "    for lin in line:\n",
    "        print(lin.strip())"
   ]
  },
  {
   "cell_type": "code",
   "execution_count": 62,
   "metadata": {},
   "outputs": [],
   "source": [
    "fname = \"data3.txt\"\n",
    "with open(fname, \"w\") as md:\n",
    "    for num in range(10):\n",
    "        md.write(str(num))\n",
    "        md.write(\"\\n\")"
   ]
  },
  {
   "cell_type": "code",
   "execution_count": 66,
   "metadata": {},
   "outputs": [],
   "source": [
    "fname = 'data3.txt'\n",
    "with open(fname,\"w\") as md:\n",
    "    for num in range(1,7):\n",
    "        md.write(f\"{num} {num} {num} \\n\")"
   ]
  },
  {
   "cell_type": "code",
   "execution_count": null,
   "metadata": {},
   "outputs": [],
   "source": []
  }
 ],
 "metadata": {
  "kernelspec": {
   "display_name": "Python 3",
   "language": "python",
   "name": "python3"
  },
  "language_info": {
   "codemirror_mode": {
    "name": "ipython",
    "version": 3
   },
   "file_extension": ".py",
   "mimetype": "text/x-python",
   "name": "python",
   "nbconvert_exporter": "python",
   "pygments_lexer": "ipython3",
   "version": "3.7.3"
  }
 },
 "nbformat": 4,
 "nbformat_minor": 2
}
