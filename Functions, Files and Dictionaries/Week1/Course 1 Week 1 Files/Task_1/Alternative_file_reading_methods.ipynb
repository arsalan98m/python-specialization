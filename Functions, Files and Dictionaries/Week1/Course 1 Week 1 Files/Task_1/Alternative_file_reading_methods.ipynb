{
 "cells": [
  {
   "cell_type": "markdown",
   "metadata": {},
   "source": [
    "- (ac9_4_1)\n",
    "\n",
    "Using the file `school_prompt2.txt`, find the number of characters in the file and assign that value to the variable `num_char`"
   ]
  },
  {
   "cell_type": "code",
   "execution_count": 1,
   "metadata": {},
   "outputs": [
    {
     "name": "stdout",
     "output_type": "stream",
     "text": [
      "536\n"
     ]
    }
   ],
   "source": [
    "file_1 = open(\"school_prompt2.txt\",\"r\")\n",
    "contents = file_1.read()\n",
    "num_char = len(contents)\n",
    "print(num_char)"
   ]
  },
  {
   "cell_type": "markdown",
   "metadata": {},
   "source": [
    "- (ac9_4_2)\n",
    "\n",
    "Find the number of lines in the file, `travel_plans2.txt`, and assign it to the variable `num_lines`"
   ]
  },
  {
   "cell_type": "code",
   "execution_count": 3,
   "metadata": {},
   "outputs": [
    {
     "name": "stdout",
     "output_type": "stream",
     "text": [
      "11\n"
     ]
    }
   ],
   "source": [
    "file_2 = open(\"travel_plans2.txt\",\"r\")\n",
    "lines = file_2.readlines()\n",
    "num_lines = len(lines)\n",
    "print(num_lines)"
   ]
  },
  {
   "cell_type": "markdown",
   "metadata": {},
   "source": [
    "- (ac9_4_3)\n",
    "\n",
    "create a string called `first_forty` that is comprised 40 characters of `emotion_words2.txt`."
   ]
  },
  {
   "cell_type": "code",
   "execution_count": 5,
   "metadata": {},
   "outputs": [
    {
     "name": "stdout",
     "output_type": "stream",
     "text": [
      "Sad upset blue down melancholy somber bi\n"
     ]
    }
   ],
   "source": [
    "file_3 = open(\"emotion_words2.txt\",\"r\")\n",
    "contents = file_3.read()\n",
    "first_forty = contents[:40]\n",
    "print(first_forty)"
   ]
  },
  {
   "cell_type": "markdown",
   "metadata": {},
   "source": [
    "- (ac9_5_3)\n",
    "\n",
    "Write code to find out how many lines are in the file `emotion_words.txt` as shown above. Save this to the variable `num_lines` .Do not use `len` method"
   ]
  },
  {
   "cell_type": "code",
   "execution_count": 6,
   "metadata": {},
   "outputs": [
    {
     "name": "stdout",
     "output_type": "stream",
     "text": [
      "7\n"
     ]
    }
   ],
   "source": [
    "file_4 = open(\"emotion_words2.txt\",\"r\")\n",
    "lines = file_4.readlines()\n",
    "num_lines = 0\n",
    "for elem in lines:\n",
    "    num_lines += 1\n",
    "print(num_lines)\n",
    "    "
   ]
  },
  {
   "cell_type": "code",
   "execution_count": null,
   "metadata": {},
   "outputs": [],
   "source": []
  }
 ],
 "metadata": {
  "kernelspec": {
   "display_name": "Python 3",
   "language": "python",
   "name": "python3"
  },
  "language_info": {
   "codemirror_mode": {
    "name": "ipython",
    "version": 3
   },
   "file_extension": ".py",
   "mimetype": "text/x-python",
   "name": "python",
   "nbconvert_exporter": "python",
   "pygments_lexer": "ipython3",
   "version": "3.7.3"
  }
 },
 "nbformat": 4,
 "nbformat_minor": 2
}
