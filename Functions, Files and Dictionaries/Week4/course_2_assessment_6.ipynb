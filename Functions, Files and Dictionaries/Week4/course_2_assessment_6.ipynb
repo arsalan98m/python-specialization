{
 "cells": [
  {
   "cell_type": "markdown",
   "metadata": {},
   "source": [
    "Write a function, sublist, that takes in a list of numbers as the parameter. In the function, use a while loop to return a sublist of the input list. The sublist should contain the same values of the original list up until it reaches the number 5 (it should not contain the number 5).\n",
    "\n"
   ]
  },
  {
   "cell_type": "code",
   "execution_count": 1,
   "metadata": {},
   "outputs": [
    {
     "name": "stdout",
     "output_type": "stream",
     "text": [
      "[1, 2, 3, 4]\n"
     ]
    }
   ],
   "source": [
    "def sublist(list_of_numbers):\n",
    "    sub_list = []\n",
    "    i = 0\n",
    "    \n",
    "    while i < len(list_of_numbers):\n",
    "        if list_of_numbers[i] != 5:\n",
    "            sub_list.append(list_of_numbers[i])\n",
    "        else:\n",
    "            break\n",
    "        \n",
    "        i = i + 1\n",
    "        \n",
    "    return sub_list\n",
    "\n",
    "return_val = sublist([1,2,3,4,5,6,7,8])\n",
    "print(return_val)"
   ]
  },
  {
   "cell_type": "markdown",
   "metadata": {},
   "source": [
    "Write a function called check_nums that takes a list as its parameter, and contains a while loop that only stops once the element of the list is the number 7. What is returned is a list of all of the numbers up until it reaches 7.\n",
    "\n"
   ]
  },
  {
   "cell_type": "code",
   "execution_count": 1,
   "metadata": {},
   "outputs": [
    {
     "name": "stdout",
     "output_type": "stream",
     "text": [
      "[2, 3, 4, 5]\n"
     ]
    }
   ],
   "source": [
    "def check_nums(lst):\n",
    "    numbers = []\n",
    "    x = 0\n",
    "    \n",
    "    while x < len(lst):\n",
    "        if lst[x] != 7:\n",
    "            numbers.append(lst[x])\n",
    "        else:\n",
    "            break\n",
    "        x = x + 1\n",
    "    return numbers\n",
    "\n",
    "return_val = check_nums([2, 3, 4, 5, 7, 8, 10])\n",
    "print(return_val)"
   ]
  },
  {
   "cell_type": "markdown",
   "metadata": {},
   "source": [
    "Write a function, sublist, that takes in a list of strings as the parameter. In the function, use a while loop to return a sublist of the input list. The sublist should contain the same values of the original list up until it reaches the string “STOP” (it should not contain the string “STOP”).\n",
    "\n"
   ]
  },
  {
   "cell_type": "code",
   "execution_count": 2,
   "metadata": {},
   "outputs": [
    {
     "name": "stdout",
     "output_type": "stream",
     "text": [
      "['arsalan', 'bilal', 'tahir']\n"
     ]
    }
   ],
   "source": [
    "def sublist(list_of_strings):\n",
    "    \n",
    "    i = 0\n",
    "    sub_list = []\n",
    "    \n",
    "    while i < len(list_of_strings):\n",
    "        if list_of_strings[i] != 'STOP':\n",
    "            sub_list.append(list_of_strings[i])\n",
    "        else:\n",
    "            break\n",
    "        i = i + 1\n",
    "    return sub_list\n",
    "\n",
    "return_val = sublist(['arsalan','bilal','tahir','STOP','aslam','taha'])\n",
    "print(return_val)"
   ]
  },
  {
   "cell_type": "markdown",
   "metadata": {},
   "source": [
    "Write a function called stop_at_z that iterates through a list of strings. Using a while loop, append each string to a new list until the string that appears is “z”. The function should return the new list.\n",
    "\n"
   ]
  },
  {
   "cell_type": "code",
   "execution_count": 3,
   "metadata": {},
   "outputs": [
    {
     "name": "stdout",
     "output_type": "stream",
     "text": [
      "['c', 'b', 'd', 'zebra', 'h', 'r']\n"
     ]
    }
   ],
   "source": [
    "\n",
    "def stop_at_z(list_of_strings):\n",
    "    i = 0\n",
    "    new_list = []\n",
    "    \n",
    "    while i < len(list_of_strings):\n",
    "        if list_of_strings[i] != \"z\":\n",
    "            new_list.append(list_of_strings[i])\n",
    "        else:\n",
    "            break\n",
    "        i = i + 1\n",
    "    return new_list\n",
    "\n",
    "return_val = stop_at_z(['c', 'b', 'd', 'zebra', 'h', 'r', 'z', 'm', 'a', 'k'])\n",
    "print(return_val)"
   ]
  },
  {
   "cell_type": "markdown",
   "metadata": {},
   "source": [
    "Below is a for loop that works. Underneath the for loop, rewrite the problem so that it does the same thing, but using a while loop instead of a for loop. Assign the accumulated total in the while loop code to the variable sum2. Once complete, sum2 should equal sum1.\n",
    "\n"
   ]
  },
  {
   "cell_type": "code",
   "execution_count": 4,
   "metadata": {},
   "outputs": [],
   "source": [
    "\n",
    "sum1 = 0\n",
    "\n",
    "lst = [65, 78, 21, 33]\n",
    "\n",
    "for x in lst:\n",
    "    sum1 = sum1 + x\n",
    "\n",
    "sum2 = 0\n",
    "i = 0\n",
    "while i < len(lst):\n",
    "    sum2 = sum2 + lst[i]\n",
    "    i = i + 1\n",
    "    \n"
   ]
  },
  {
   "cell_type": "markdown",
   "metadata": {},
   "source": [
    "Challenge: Write a function called beginning that takes a list as input and contains a while loop that only stops once the element of the list is the string ‘bye’. What is returned is a list that contains up to the first 10 strings, regardless of where the loop stops. (i.e., if it stops on the 32nd element, the first 10 are returned. If “bye” is the 5th element, the first 4 are returned.) If you want to make this even more of a challenge, do this without slicing\n",
    "\n"
   ]
  },
  {
   "cell_type": "code",
   "execution_count": 5,
   "metadata": {},
   "outputs": [
    {
     "name": "stdout",
     "output_type": "stream",
     "text": [
      "['water', 'phone', 'home', 'chapstick', 'market', 'headphones']\n",
      "\n",
      "\n",
      "['hello', 'hi', 'hiyah', 'howdy', 'what up', 'whats good', 'holla', 'good afternoon', 'good morning', 'sup']\n"
     ]
    }
   ],
   "source": [
    "\n",
    "def beginning(list_of_input):\n",
    "    sub_list = []\n",
    "    i = 0\n",
    "    \n",
    "    while i < len(list_of_input):\n",
    "        if list_of_input[i] != \"bye\" and i < 10:\n",
    "            sub_list.append(list_of_input[i])\n",
    "            \n",
    "        else:\n",
    "            break\n",
    "        i = i + 1\n",
    "    return sub_list\n",
    "\n",
    "list_1 = ['water', 'phone', 'home', 'chapstick', 'market', 'headphones', 'bye', 'stickie notes', 'snapchat', 'facebook', 'social media']\n",
    "return_val1 = beginning(list_1)\n",
    "print(return_val1)\n",
    "\n",
    "print(\"\\n\")\n",
    "\n",
    "list_2 = ['hello', 'hi', 'hiyah', 'howdy', 'what up', 'whats good', 'holla', 'good afternoon', 'good morning', 'sup', 'see yah', 'toodel loo', 'night', 'until later', 'peace', 'bye', 'good-bye', 'g night']\n",
    "return_val2 = beginning(list_2)\n",
    "print(return_val2)"
   ]
  },
  {
   "cell_type": "code",
   "execution_count": null,
   "metadata": {},
   "outputs": [],
   "source": []
  }
 ],
 "metadata": {
  "kernelspec": {
   "display_name": "Python 3",
   "language": "python",
   "name": "python3"
  },
  "language_info": {
   "codemirror_mode": {
    "name": "ipython",
    "version": 3
   },
   "file_extension": ".py",
   "mimetype": "text/x-python",
   "name": "python",
   "nbconvert_exporter": "python",
   "pygments_lexer": "ipython3",
   "version": "3.7.3"
  }
 },
 "nbformat": 4,
 "nbformat_minor": 2
}
