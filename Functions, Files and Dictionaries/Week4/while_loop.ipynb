{
 "cells": [
  {
   "cell_type": "code",
   "execution_count": 5,
   "metadata": {},
   "outputs": [
    {
     "name": "stdout",
     "output_type": "stream",
     "text": [
      "15\n",
      "10\n"
     ]
    }
   ],
   "source": [
    "def sumTo(aBound):\n",
    "    \n",
    "    theSum = 0\n",
    "    aNumber = 1\n",
    "    \n",
    "    while aNumber <= aBound:\n",
    "        theSum = theSum + aNumber\n",
    "        aNumber = aNumber + 1\n",
    "    return theSum\n",
    "\n",
    "print(sumTo(5))\n",
    "return_val = sumTo(4)\n",
    "print(return_val)"
   ]
  },
  {
   "cell_type": "code",
   "execution_count": 11,
   "metadata": {},
   "outputs": [
    {
     "name": "stdout",
     "output_type": "stream",
     "text": [
      "4\n",
      "10\n"
     ]
    }
   ],
   "source": [
    "list1 =[1, 2, 3, 4]\n",
    "\n",
    "accum = 0\n",
    "\n",
    "idx =0\n",
    "while idx < len(list1):\n",
    "    accum += list1[idx]\n",
    "    idx = idx + 1\n",
    "\n",
    "print(accum)"
   ]
  },
  {
   "cell_type": "code",
   "execution_count": 12,
   "metadata": {},
   "outputs": [
    {
     "name": "stdout",
     "output_type": "stream",
     "text": [
      "next number to add up (enter 0 if no more numbers): 1\n",
      "next number to add up (enter 0 if no more numbers): 2\n",
      "next number to add up (enter 0 if no more numbers): 3\n",
      "next number to add up (enter 0 if no more numbers): 4\n",
      "next number to add up (enter 0 if no more numbers): 0\n",
      "10\n"
     ]
    }
   ],
   "source": [
    "theSum = 0\n",
    "x = -1\n",
    "while (x != 0):\n",
    "    x = int(input(\"next number to add up (enter 0 if no more numbers): \"))\n",
    "    theSum = theSum + x\n",
    "print(theSum)"
   ]
  },
  {
   "cell_type": "code",
   "execution_count": 13,
   "metadata": {},
   "outputs": [],
   "source": [
    "def checkout():\n",
    "    total = 0\n",
    "    count = 0\n",
    "    moreItems = True\n",
    "    \n",
    "    while moreItems:\n",
    "        price = float(input(\"Enter price of item(0 when done): \"))\n",
    "        \n",
    "        if price != 0:\n",
    "            count = count + 1\n",
    "            total = total + price\n",
    "            print('Subtotal: $',total)\n",
    "        else:\n",
    "            moreItems = False\n",
    "    average = total/count\n",
    "    print('Total items: ',count)\n",
    "    print('Total $',total)\n",
    "    print('Average price per item: $',average)\n"
   ]
  },
  {
   "cell_type": "code",
   "execution_count": 14,
   "metadata": {},
   "outputs": [
    {
     "name": "stdout",
     "output_type": "stream",
     "text": [
      "Enter price of item(0 when done): 200\n",
      "Subtotal: $ 200.0\n",
      "Enter price of item(0 when done): 150\n",
      "Subtotal: $ 350.0\n",
      "Enter price of item(0 when done): 50\n",
      "Subtotal: $ 400.0\n",
      "Enter price of item(0 when done): 0\n",
      "Total items:  3\n",
      "Total $ 400.0\n",
      "Average price per item: $ 133.33333333333334\n"
     ]
    }
   ],
   "source": [
    "checkout()"
   ]
  },
  {
   "cell_type": "code",
   "execution_count": 16,
   "metadata": {},
   "outputs": [
    {
     "name": "stdout",
     "output_type": "stream",
     "text": [
      "Do you like lima beans? Y)es or N)o: something\n",
      "Please Enter Y for yes or N for no.\n",
      "Do you like lima beans? Y)es or N)o: Y\n",
      "Great! They are very healthy.\n"
     ]
    }
   ],
   "source": [
    "def get_yes_or_no(message):\n",
    "    valid_input = False\n",
    "    \n",
    "    while not valid_input:\n",
    "        answer = input(message)\n",
    "        answer = answer.upper() # convert to uppercase\n",
    "        \n",
    "        if answer == 'Y' or answer == 'N':\n",
    "            valid_input = True\n",
    "        else:\n",
    "            print('Please Enter Y for yes or N for no.')\n",
    "    return answer\n",
    "\n",
    "response = get_yes_or_no('Do you like lima beans? Y)es or N)o: ')\n",
    "\n",
    "if response == 'Y':\n",
    "    print('Great! They are very healthy.')\n",
    "else:\n",
    "    print('Too bad. If cooked right, they are quite easy.')\n",
    "        "
   ]
  },
  {
   "cell_type": "code",
   "execution_count": 17,
   "metadata": {},
   "outputs": [
    {
     "name": "stdout",
     "output_type": "stream",
     "text": [
      "this phrase will always print.\n",
      "We are done with the while\n"
     ]
    }
   ],
   "source": [
    "while True:\n",
    "    print('this phrase will always print.')\n",
    "    break\n",
    "    print('Does this phrase print?')\n",
    "print('We are done with the while')"
   ]
  },
  {
   "cell_type": "code",
   "execution_count": 18,
   "metadata": {},
   "outputs": [
    {
     "name": "stdout",
     "output_type": "stream",
     "text": [
      "We are incrementing x\n",
      "We are incrementing x\n",
      "We are incrementing x\n",
      "Done with our loop! x has the value: 15\n"
     ]
    }
   ],
   "source": [
    "x = 0\n",
    "\n",
    "while x<10:\n",
    "    print(\"We are incrementing x\")\n",
    "    \n",
    "    if x % 2 == 0:\n",
    "        x += 3\n",
    "        continue\n",
    "        \n",
    "    if x % 3 == 0:\n",
    "        x += 5\n",
    "    x += 1\n",
    "\n",
    "print(\"Done with our loop! x has the value: \"+str(x))"
   ]
  },
  {
   "cell_type": "code",
   "execution_count": 1,
   "metadata": {},
   "outputs": [],
   "source": [
    "even_nums = []\n",
    "num = 0\n",
    "\n",
    "while num <= 15:\n",
    "    if num % 2 == 0:\n",
    "        even_nums.append(num)\n",
    "    num = num + 1\n",
    "    "
   ]
  },
  {
   "cell_type": "code",
   "execution_count": 2,
   "metadata": {},
   "outputs": [
    {
     "data": {
      "text/plain": [
       "[0, 2, 4, 6, 8, 10, 12, 14]"
      ]
     },
     "execution_count": 2,
     "metadata": {},
     "output_type": "execute_result"
    }
   ],
   "source": [
    "even_nums"
   ]
  },
  {
   "cell_type": "code",
   "execution_count": 7,
   "metadata": {},
   "outputs": [
    {
     "name": "stdout",
     "output_type": "stream",
     "text": [
      "3\n"
     ]
    }
   ],
   "source": [
    "accum = 0\n",
    "list1 = [1,2]\n",
    "tot = 0\n",
    "while accum < len(list1):\n",
    "    tot = tot + list1[accum]\n",
    "    accum = accum + 1\n",
    "\n",
    "print(tot)"
   ]
  },
  {
   "cell_type": "code",
   "execution_count": 8,
   "metadata": {},
   "outputs": [
    {
     "data": {
      "text/plain": [
       "2"
      ]
     },
     "execution_count": 8,
     "metadata": {},
     "output_type": "execute_result"
    }
   ],
   "source": [
    "len(list1)"
   ]
  },
  {
   "cell_type": "code",
   "execution_count": 11,
   "metadata": {},
   "outputs": [],
   "source": [
    "def SumTo(aBound):\n",
    "    ''' Return the sum of 1 + 2 + 3 ... n '''\n",
    "    \n",
    "    theSum = 0\n",
    "    aNumber = 1\n",
    "    \n",
    "    while aNumber <= aBound:\n",
    "        theSum = theSum + aNumber\n",
    "        aNumber = aNumber + 1\n",
    "    return theSum"
   ]
  },
  {
   "cell_type": "code",
   "execution_count": 12,
   "metadata": {},
   "outputs": [
    {
     "data": {
      "text/plain": [
       "10"
      ]
     },
     "execution_count": 12,
     "metadata": {},
     "output_type": "execute_result"
    }
   ],
   "source": [
    "SumTo(4)"
   ]
  },
  {
   "cell_type": "code",
   "execution_count": 13,
   "metadata": {},
   "outputs": [
    {
     "data": {
      "text/plain": [
       "3"
      ]
     },
     "execution_count": 13,
     "metadata": {},
     "output_type": "execute_result"
    }
   ],
   "source": [
    "SumTo(2)"
   ]
  },
  {
   "cell_type": "code",
   "execution_count": 14,
   "metadata": {},
   "outputs": [
    {
     "name": "stdout",
     "output_type": "stream",
     "text": [
      "next number to add up (enter 0 if exit.)12\n",
      "next number to add up (enter 0 if exit.)1\n",
      "next number to add up (enter 0 if exit.)0\n",
      "13\n"
     ]
    }
   ],
   "source": [
    "theSum = 0\n",
    "x = -1\n",
    "\n",
    "while (x!=0):\n",
    "    x = int(input(\"next number to add up (enter 0 if exit.)\"))\n",
    "    theSum = theSum + x\n",
    "\n",
    "print(theSum)"
   ]
  },
  {
   "cell_type": "code",
   "execution_count": 17,
   "metadata": {},
   "outputs": [],
   "source": [
    "def get_yes_or_no(message):\n",
    "    valid_input = False\n",
    "    \n",
    "    while not valid_input:\n",
    "        answer = input(message)\n",
    "        answer = answer.upper()\n",
    "        \n",
    "        if answer == 'Y' or answer == 'N':\n",
    "            valid_input = True\n",
    "        else:\n",
    "            print(\"Please enter Y for yes or N for no.\")\n",
    "    return answer\n",
    "\n"
   ]
  },
  {
   "cell_type": "code",
   "execution_count": 19,
   "metadata": {},
   "outputs": [
    {
     "name": "stdout",
     "output_type": "stream",
     "text": [
      "Do you like lima beans? Y)es or N)o: a\n",
      "Please enter Y for yes or N for no.\n",
      "Do you like lima beans? Y)es or N)o: s\n",
      "Please enter Y for yes or N for no.\n",
      "Do you like lima beans? Y)es or N)o: y\n",
      "Great!\n"
     ]
    }
   ],
   "source": [
    "response = get_yes_or_no('Do you like lima beans? Y)es or N)o: ')\n",
    "\n",
    "if response == 'Y':\n",
    "    print(\"Great!\")\n",
    "else:\n",
    "    print(\"TOo bad\")"
   ]
  },
  {
   "cell_type": "code",
   "execution_count": 22,
   "metadata": {},
   "outputs": [],
   "source": [
    "def checkout():\n",
    "    total = 0\n",
    "    count = 0\n",
    "    moreItem = True\n",
    "    \n",
    "    while moreItem:\n",
    "        price = float(input(\"Enter price of item (0 when done:)\"))\n",
    "        \n",
    "        if price!=0:\n",
    "            count = count + 1\n",
    "            total = total + price\n",
    "            print('Subtotal: $',total)\n",
    "        else:\n",
    "            moreItem=False\n",
    "    average = total/count\n",
    "    print('\\nTotal Items:',count)\n",
    "    print('Total $',total)\n",
    "    print('Average price per item: $',average)"
   ]
  },
  {
   "cell_type": "code",
   "execution_count": 23,
   "metadata": {},
   "outputs": [
    {
     "name": "stdout",
     "output_type": "stream",
     "text": [
      "Enter price of item (0 when done:)100\n",
      "Subtotal: $ 100.0\n",
      "Enter price of item (0 when done:)300\n",
      "Subtotal: $ 400.0\n",
      "Enter price of item (0 when done:)0\n",
      "\n",
      "Total Items: 2\n",
      "Total $ 400.0\n",
      "Average price per item: $ 200.0\n"
     ]
    }
   ],
   "source": [
    "checkout()"
   ]
  },
  {
   "cell_type": "code",
   "execution_count": 24,
   "metadata": {},
   "outputs": [
    {
     "name": "stdout",
     "output_type": "stream",
     "text": [
      "this phrase will always print\n",
      "done\n"
     ]
    }
   ],
   "source": [
    "while True:\n",
    "    print(\"this phrase will always print\")\n",
    "    break\n",
    "    print(\"does this phase print\")\n",
    "print(\"done\")"
   ]
  },
  {
   "cell_type": "code",
   "execution_count": 30,
   "metadata": {},
   "outputs": [
    {
     "data": {
      "text/plain": [
       "1"
      ]
     },
     "execution_count": 30,
     "metadata": {},
     "output_type": "execute_result"
    }
   ],
   "source": [
    "9 % 2"
   ]
  },
  {
   "cell_type": "code",
   "execution_count": 29,
   "metadata": {},
   "outputs": [
    {
     "data": {
      "text/plain": [
       "0"
      ]
     },
     "execution_count": 29,
     "metadata": {},
     "output_type": "execute_result"
    }
   ],
   "source": [
    "12"
   ]
  },
  {
   "cell_type": "code",
   "execution_count": 32,
   "metadata": {},
   "outputs": [
    {
     "name": "stdout",
     "output_type": "stream",
     "text": [
      "we are incrementing\n",
      "we are incrementing\n",
      "we are incrementing\n",
      "Done with our loop x has the value: 15\n"
     ]
    }
   ],
   "source": [
    "x = 0\n",
    "\n",
    "while x < 10:\n",
    "    print('we are incrementing')\n",
    "    if x % 2 == 0:\n",
    "        x += 3\n",
    "        continue\n",
    "    \n",
    "    if x % 3 == 0:\n",
    "        x += 5\n",
    "    x += 1\n",
    "    \n",
    "print(\"Done with our loop x has the value:\",x)"
   ]
  },
  {
   "cell_type": "code",
   "execution_count": null,
   "metadata": {},
   "outputs": [],
   "source": []
  }
 ],
 "metadata": {
  "kernelspec": {
   "display_name": "Python 3",
   "language": "python",
   "name": "python3"
  },
  "language_info": {
   "codemirror_mode": {
    "name": "ipython",
    "version": 3
   },
   "file_extension": ".py",
   "mimetype": "text/x-python",
   "name": "python",
   "nbconvert_exporter": "python",
   "pygments_lexer": "ipython3",
   "version": "3.7.3"
  }
 },
 "nbformat": 4,
 "nbformat_minor": 2
}
