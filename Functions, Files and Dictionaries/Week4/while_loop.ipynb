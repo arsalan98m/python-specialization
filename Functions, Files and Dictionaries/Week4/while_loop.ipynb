{
 "cells": [
  {
   "cell_type": "code",
   "execution_count": 5,
   "metadata": {},
   "outputs": [
    {
     "name": "stdout",
     "output_type": "stream",
     "text": [
      "15\n",
      "10\n"
     ]
    }
   ],
   "source": [
    "def sumTo(aBound):\n",
    "    \n",
    "    theSum = 0\n",
    "    aNumber = 1\n",
    "    \n",
    "    while aNumber <= aBound:\n",
    "        theSum = theSum + aNumber\n",
    "        aNumber = aNumber + 1\n",
    "    return theSum\n",
    "\n",
    "print(sumTo(5))\n",
    "return_val = sumTo(4)\n",
    "print(return_val)"
   ]
  },
  {
   "cell_type": "code",
   "execution_count": 11,
   "metadata": {},
   "outputs": [
    {
     "name": "stdout",
     "output_type": "stream",
     "text": [
      "4\n",
      "10\n"
     ]
    }
   ],
   "source": [
    "list1 =[1, 2, 3, 4]\n",
    "\n",
    "accum = 0\n",
    "\n",
    "idx =0\n",
    "while idx < len(list1):\n",
    "    accum += list1[idx]\n",
    "    idx = idx + 1\n",
    "\n",
    "print(accum)"
   ]
  },
  {
   "cell_type": "code",
   "execution_count": 12,
   "metadata": {},
   "outputs": [
    {
     "name": "stdout",
     "output_type": "stream",
     "text": [
      "next number to add up (enter 0 if no more numbers): 1\n",
      "next number to add up (enter 0 if no more numbers): 2\n",
      "next number to add up (enter 0 if no more numbers): 3\n",
      "next number to add up (enter 0 if no more numbers): 4\n",
      "next number to add up (enter 0 if no more numbers): 0\n",
      "10\n"
     ]
    }
   ],
   "source": [
    "theSum = 0\n",
    "x = -1\n",
    "while (x != 0):\n",
    "    x = int(input(\"next number to add up (enter 0 if no more numbers): \"))\n",
    "    theSum = theSum + x\n",
    "print(theSum)"
   ]
  },
  {
   "cell_type": "code",
   "execution_count": 13,
   "metadata": {},
   "outputs": [],
   "source": [
    "def checkout():\n",
    "    total = 0\n",
    "    count = 0\n",
    "    moreItems = True\n",
    "    \n",
    "    while moreItems:\n",
    "        price = float(input(\"Enter price of item(0 when done): \"))\n",
    "        \n",
    "        if price != 0:\n",
    "            count = count + 1\n",
    "            total = total + price\n",
    "            print('Subtotal: $',total)\n",
    "        else:\n",
    "            moreItems = False\n",
    "    average = total/count\n",
    "    print('Total items: ',count)\n",
    "    print('Total $',total)\n",
    "    print('Average price per item: $',average)\n"
   ]
  },
  {
   "cell_type": "code",
   "execution_count": 14,
   "metadata": {},
   "outputs": [
    {
     "name": "stdout",
     "output_type": "stream",
     "text": [
      "Enter price of item(0 when done): 200\n",
      "Subtotal: $ 200.0\n",
      "Enter price of item(0 when done): 150\n",
      "Subtotal: $ 350.0\n",
      "Enter price of item(0 when done): 50\n",
      "Subtotal: $ 400.0\n",
      "Enter price of item(0 when done): 0\n",
      "Total items:  3\n",
      "Total $ 400.0\n",
      "Average price per item: $ 133.33333333333334\n"
     ]
    }
   ],
   "source": [
    "checkout()"
   ]
  },
  {
   "cell_type": "code",
   "execution_count": 16,
   "metadata": {},
   "outputs": [
    {
     "name": "stdout",
     "output_type": "stream",
     "text": [
      "Do you like lima beans? Y)es or N)o: something\n",
      "Please Enter Y for yes or N for no.\n",
      "Do you like lima beans? Y)es or N)o: Y\n",
      "Great! They are very healthy.\n"
     ]
    }
   ],
   "source": [
    "def get_yes_or_no(message):\n",
    "    valid_input = False\n",
    "    \n",
    "    while not valid_input:\n",
    "        answer = input(message)\n",
    "        answer = answer.upper() # convert to uppercase\n",
    "        \n",
    "        if answer == 'Y' or answer == 'N':\n",
    "            valid_input = True\n",
    "        else:\n",
    "            print('Please Enter Y for yes or N for no.')\n",
    "    return answer\n",
    "\n",
    "response = get_yes_or_no('Do you like lima beans? Y)es or N)o: ')\n",
    "\n",
    "if response == 'Y':\n",
    "    print('Great! They are very healthy.')\n",
    "else:\n",
    "    print('Too bad. If cooked right, they are quite easy.')\n",
    "        "
   ]
  },
  {
   "cell_type": "code",
   "execution_count": 17,
   "metadata": {},
   "outputs": [
    {
     "name": "stdout",
     "output_type": "stream",
     "text": [
      "this phrase will always print.\n",
      "We are done with the while\n"
     ]
    }
   ],
   "source": [
    "while True:\n",
    "    print('this phrase will always print.')\n",
    "    break\n",
    "    print('Does this phrase print?')\n",
    "print('We are done with the while')"
   ]
  },
  {
   "cell_type": "code",
   "execution_count": 18,
   "metadata": {},
   "outputs": [
    {
     "name": "stdout",
     "output_type": "stream",
     "text": [
      "We are incrementing x\n",
      "We are incrementing x\n",
      "We are incrementing x\n",
      "Done with our loop! x has the value: 15\n"
     ]
    }
   ],
   "source": [
    "x = 0\n",
    "\n",
    "while x<10:\n",
    "    print(\"We are incrementing x\")\n",
    "    \n",
    "    if x % 2 == 0:\n",
    "        x += 3\n",
    "        continue\n",
    "        \n",
    "    if x % 3 == 0:\n",
    "        x += 5\n",
    "    x += 1\n",
    "\n",
    "print(\"Done with our loop! x has the value: \"+str(x))"
   ]
  },
  {
   "cell_type": "code",
   "execution_count": null,
   "metadata": {},
   "outputs": [],
   "source": []
  }
 ],
 "metadata": {
  "kernelspec": {
   "display_name": "Python 3",
   "language": "python",
   "name": "python3"
  },
  "language_info": {
   "codemirror_mode": {
    "name": "ipython",
    "version": 3
   },
   "file_extension": ".py",
   "mimetype": "text/x-python",
   "name": "python",
   "nbconvert_exporter": "python",
   "pygments_lexer": "ipython3",
   "version": "3.7.3"
  }
 },
 "nbformat": 4,
 "nbformat_minor": 2
}
