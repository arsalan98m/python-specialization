{
 "cells": [
  {
   "cell_type": "code",
   "execution_count": 2,
   "metadata": {},
   "outputs": [
    {
     "name": "stdout",
     "output_type": "stream",
     "text": [
      "[-2, 1, 3, 4, 7]\n",
      "['Apple', 'Blueberry', 'Cherry']\n"
     ]
    }
   ],
   "source": [
    "L1 = [1, 7, 4, -2, 3]\n",
    "L2 = ['Cherry', 'Apple', 'Blueberry']\n",
    "\n",
    "L1.sort()\n",
    "print(L1)\n",
    "\n",
    "L2.sort()\n",
    "print(L2)"
   ]
  },
  {
   "cell_type": "code",
   "execution_count": 4,
   "metadata": {},
   "outputs": [
    {
     "data": {
      "text/plain": [
       "['Apple', 'Blueberry', 'Cherry']"
      ]
     },
     "execution_count": 4,
     "metadata": {},
     "output_type": "execute_result"
    }
   ],
   "source": [
    "L2"
   ]
  },
  {
   "cell_type": "code",
   "execution_count": 8,
   "metadata": {},
   "outputs": [
    {
     "name": "stdout",
     "output_type": "stream",
     "text": [
      "['Apple', 'Blueberry', 'Cherry']\n",
      "['Apple', 'Blueberry', 'Cherry']\n",
      "['Cherry', 'Apple', 'Blueberry']\n",
      "------- \n",
      "['Apple', 'Blueberry', 'Cherry']\n",
      "None\n"
     ]
    }
   ],
   "source": [
    "L2 = ['Cherry','Apple','Blueberry']\n",
    "\n",
    "L3 = sorted(L2)\n",
    "print(L3)\n",
    "\n",
    "print(sorted(L2))\n",
    "print(L2) # Unchanged\n",
    "\n",
    "print(\"------- \")\n",
    "\n",
    "L2.sort()\n",
    "print(L2)\n",
    "print(L2.sort()) # return value is None"
   ]
  },
  {
   "cell_type": "code",
   "execution_count": 10,
   "metadata": {},
   "outputs": [
    {
     "name": "stdout",
     "output_type": "stream",
     "text": [
      "['Cherry', 'Blueberry', 'Apple']\n"
     ]
    }
   ],
   "source": [
    "L2 = ['Cherry','Apple','Blueberry']\n",
    "print(sorted(L2, reverse=True))"
   ]
  },
  {
   "cell_type": "code",
   "execution_count": null,
   "metadata": {},
   "outputs": [],
   "source": [
    "sorted()"
   ]
  }
 ],
 "metadata": {
  "kernelspec": {
   "display_name": "Python 3",
   "language": "python",
   "name": "python3"
  },
  "language_info": {
   "codemirror_mode": {
    "name": "ipython",
    "version": 3
   },
   "file_extension": ".py",
   "mimetype": "text/x-python",
   "name": "python",
   "nbconvert_exporter": "python",
   "pygments_lexer": "ipython3",
   "version": "3.7.3"
  }
 },
 "nbformat": 4,
 "nbformat_minor": 2
}
