{
 "cells": [
  {
   "cell_type": "code",
   "execution_count": 1,
   "metadata": {},
   "outputs": [
    {
     "name": "stdout",
     "output_type": "stream",
     "text": [
      "19\n"
     ]
    }
   ],
   "source": [
    "travel = {\"North America\": 2, \"Europe\": 8, \"South America\": 3, \"Asia\": 4,\n",
    "         \"Africa\": 1, \"Antartica\":0, \"Austrailia\": 1}\n",
    "\n",
    "total = 0\n",
    "\n",
    "for elem in travel:\n",
    "    total += travel[elem]\n",
    "print(total)"
   ]
  },
  {
   "cell_type": "code",
   "execution_count": 4,
   "metadata": {},
   "outputs": [
    {
     "name": "stdout",
     "output_type": "stream",
     "text": [
      "63\n"
     ]
    }
   ],
   "source": [
    "schedule = {\"UARTS 150\": 3, \"SPANISH 103\": 4, \"ENGLISH 125\": 4, \"SI 110\": 4, \"ENS 356\": 2, \"WOMENSTD 240\": 4, \"SI 106\": 4, \"BIO 118\": 3, \"SPANISH 231\": 4, \"PSYCH 111\": 4, \"LING 111\": 3, \"SPANISH 232\": 4, \"STATS 250\": 4, \"SI 206\": 4, \"COGSCI 200\": 4, \"AMCULT 202\": 4, \"ANTHRO 101\": 4}\n",
    "total_credits = 0\n",
    "\n",
    "for elem in schedule:\n",
    "    total_credits += schedule[elem]\n",
    "\n",
    "print(total_credits)"
   ]
  },
  {
   "cell_type": "code",
   "execution_count": 6,
   "metadata": {},
   "outputs": [
    {
     "name": "stdout",
     "output_type": "stream",
     "text": [
      "13\n"
     ]
    }
   ],
   "source": [
    "dic = {'a':2, 'b':1, 'a':2, 'c':10}\n",
    "total = 0\n",
    "\n",
    "for elem in dic:\n",
    "    total += dic[elem]\n",
    "\n",
    "print(total)"
   ]
  },
  {
   "cell_type": "code",
   "execution_count": 12,
   "metadata": {},
   "outputs": [
    {
     "name": "stdout",
     "output_type": "stream",
     "text": [
      "key e has the highest value 312\n"
     ]
    }
   ],
   "source": [
    "d = {'a': 194, 'b': 54, 'c': 34, 'd': 44, 'e': 312, 'full':31}\n",
    "\n",
    "ks = d.keys()\n",
    "#print(ks)\n",
    "#print(type(ks))\n",
    "\n",
    "best_key_so_far = list(ks)[0]\n",
    "#print(best_key_so_far)\n",
    "\n",
    "for k in ks:\n",
    "    if d[k] > d[best_key_so_far]:\n",
    "        best_key_so_far = k\n",
    "\n",
    "print(\"key\",best_key_so_far,\"has the highest value\",str(d[best_key_so_far]))"
   ]
  },
  {
   "cell_type": "markdown",
   "metadata": {},
   "source": [
    "1. Create a dictionary called d that keeps track of all the characters in the string placement and notes how many times each character was seen. Then, find the key with the lowest value in this dictionary and assign that key to min_value.\n"
   ]
  },
  {
   "cell_type": "code",
   "execution_count": 40,
   "metadata": {},
   "outputs": [
    {
     "name": "stdout",
     "output_type": "stream",
     "text": [
      "{'B': 2, 'e': 17, 'a': 12, 'c': 8, 'h': 4, 's': 10, ' ': 27, 'r': 7, 'o': 10, 'l': 8, 'p': 6, 't': 8, 'v': 3, 'i': 13, 'n': 7, 'g': 2, 'w': 3, 'M': 3, 'k': 2, 'd': 2, '.': 2, 'x': 1}\n",
      "x\n",
      "Minimum value in Dictionary is 1\n"
     ]
    }
   ],
   "source": [
    "placement = \"Beaches are cool places to visit in spring however the Mackinaw Bridge is near. Most people visit Mackinaw later since the island is a cool place to explore.\"\n",
    "d = {}\n",
    "min_value = 0\n",
    "\n",
    "\n",
    "for elem in placement:\n",
    "    if elem not in d:\n",
    "        d[elem] = 0\n",
    "    d[elem] = d[elem] + 1\n",
    "\n",
    "\n",
    "d_keys = d.keys()\n",
    "min_value = list(d_keys)[1]\n",
    "for elem in d_keys:\n",
    "    if d[elem] < d[min_value]:\n",
    "        min_value = elem\n",
    "print(d)\n",
    "print(min_value)\n",
    "print(\"Minimum value in Dictionary is\",d[min_value])\n",
    "#print(list(d_keys)[0])"
   ]
  },
  {
   "cell_type": "markdown",
   "metadata": {},
   "source": [
    "5. Create a dictionary called lett_d that keeps track of all of the characters in the string product and notes how many times each character was seen. Then, find the key with the highest value in this dictionary and assign that key to max_value.\n"
   ]
  },
  {
   "cell_type": "code",
   "execution_count": 39,
   "metadata": {},
   "outputs": [
    {
     "name": "stdout",
     "output_type": "stream",
     "text": [
      "{'i': 2, 'p': 2, 'h': 2, 'o': 3, 'n': 4, 'e': 2, ' ': 3, 'a': 2, 'd': 3, 'r': 1, 's': 1}\n",
      "Maximum value in Dictionary is 4\n"
     ]
    }
   ],
   "source": [
    "product = \"iphone and android phones\"\n",
    "lett_d = {}\n",
    "max_value = 0\n",
    "\n",
    "for elem in product:\n",
    "    if elem not in lett_d:\n",
    "        lett_d[elem] = 0\n",
    "    \n",
    "    lett_d[elem] = lett_d[elem] + 1\n",
    "    \n",
    "d_keys = lett_d.keys()\n",
    "max_value = list(d_keys)[0]\n",
    "\n",
    "for elem in d_keys:\n",
    "    if lett_d[elem] > lett_d[max_value]:\n",
    "        max_value = elem\n",
    "\n",
    "print(lett_d)\n",
    "print(\"Maximum value in Dictionary is\",lett_d[max_value])"
   ]
  },
  {
   "cell_type": "code",
   "execution_count": 49,
   "metadata": {},
   "outputs": [],
   "source": [
    "tup = (\"arsalan\",12,\"male\")\n",
    "\n",
    "name,age,gender = tup"
   ]
  },
  {
   "cell_type": "code",
   "execution_count": 50,
   "metadata": {},
   "outputs": [
    {
     "name": "stdout",
     "output_type": "stream",
     "text": [
      "arsalan\n",
      "12\n",
      "male\n"
     ]
    }
   ],
   "source": [
    "print(name)\n",
    "print(age)\n",
    "print(gender)"
   ]
  },
  {
   "cell_type": "code",
   "execution_count": 54,
   "metadata": {},
   "outputs": [],
   "source": [
    "tup = (\"arsalan\",12,\"male\")\n",
    "name = tup[0]\n",
    "age = tup[1]\n",
    "gender = tup[2]"
   ]
  },
  {
   "cell_type": "code",
   "execution_count": 56,
   "metadata": {},
   "outputs": [
    {
     "name": "stdout",
     "output_type": "stream",
     "text": [
      "arsalan\n",
      "12\n",
      "male\n"
     ]
    }
   ],
   "source": [
    "print(name)\n",
    "print(age)\n",
    "print(gender)"
   ]
  },
  {
   "cell_type": "code",
   "execution_count": null,
   "metadata": {},
   "outputs": [],
   "source": []
  }
 ],
 "metadata": {
  "kernelspec": {
   "display_name": "Python 3",
   "language": "python",
   "name": "python3"
  },
  "language_info": {
   "codemirror_mode": {
    "name": "ipython",
    "version": 3
   },
   "file_extension": ".py",
   "mimetype": "text/x-python",
   "name": "python",
   "nbconvert_exporter": "python",
   "pygments_lexer": "ipython3",
   "version": "3.7.3"
  }
 },
 "nbformat": 4,
 "nbformat_minor": 2
}
