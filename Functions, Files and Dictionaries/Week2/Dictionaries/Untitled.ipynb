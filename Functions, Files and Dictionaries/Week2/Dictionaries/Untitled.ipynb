{
 "cells": [
  {
   "cell_type": "code",
   "execution_count": 1,
   "metadata": {},
   "outputs": [],
   "source": [
    "eng2sp = {}"
   ]
  },
  {
   "cell_type": "code",
   "execution_count": 2,
   "metadata": {},
   "outputs": [
    {
     "name": "stdout",
     "output_type": "stream",
     "text": [
      "{'one': 'uno', 'two': 'dos', 'three': 'tres'}\n"
     ]
    }
   ],
   "source": [
    "eng2sp['one'] = 'uno'\n",
    "eng2sp['two'] = 'dos'\n",
    "eng2sp['three'] = 'tres'\n",
    "print(eng2sp)"
   ]
  },
  {
   "cell_type": "code",
   "execution_count": 3,
   "metadata": {},
   "outputs": [],
   "source": [
    "value = eng2sp['two']"
   ]
  },
  {
   "cell_type": "code",
   "execution_count": 4,
   "metadata": {},
   "outputs": [
    {
     "name": "stdout",
     "output_type": "stream",
     "text": [
      "dos\n"
     ]
    }
   ],
   "source": [
    "print(value)"
   ]
  },
  {
   "cell_type": "code",
   "execution_count": 5,
   "metadata": {},
   "outputs": [],
   "source": [
    "inventory = {'apples': 430, 'bananas': 312, 'oranges': 525, 'pears': 217}\n",
    "del inventory['pears']"
   ]
  },
  {
   "cell_type": "code",
   "execution_count": 6,
   "metadata": {},
   "outputs": [
    {
     "data": {
      "text/plain": [
       "{'apples': 430, 'bananas': 312, 'oranges': 525}"
      ]
     },
     "execution_count": 6,
     "metadata": {},
     "output_type": "execute_result"
    }
   ],
   "source": [
    "inventory"
   ]
  },
  {
   "cell_type": "code",
   "execution_count": 8,
   "metadata": {},
   "outputs": [
    {
     "data": {
      "text/plain": [
       "{'apples': 430, 'bananas': 312, 'oranges': 525, 'pears': 0}"
      ]
     },
     "execution_count": 8,
     "metadata": {},
     "output_type": "execute_result"
    }
   ],
   "source": [
    "inventory = {'apples': 430, 'bananas': 312, 'oranges': 525, 'pears': 217}\n",
    "inventory['pears'] = 0\n",
    "inventory"
   ]
  },
  {
   "cell_type": "code",
   "execution_count": 9,
   "metadata": {},
   "outputs": [
    {
     "data": {
      "text/plain": [
       "{'apples': 430, 'bananas': 512, 'oranges': 525, 'pears': 0}"
      ]
     },
     "execution_count": 9,
     "metadata": {},
     "output_type": "execute_result"
    }
   ],
   "source": [
    "inventory['bananas'] = inventory['bananas'] + 200\n",
    "inventory"
   ]
  },
  {
   "cell_type": "code",
   "execution_count": 11,
   "metadata": {},
   "outputs": [
    {
     "name": "stdout",
     "output_type": "stream",
     "text": [
      "4\n"
     ]
    }
   ],
   "source": [
    "numItems = len(inventory)\n",
    "print(numItems)"
   ]
  },
  {
   "cell_type": "code",
   "execution_count": 14,
   "metadata": {},
   "outputs": [
    {
     "name": "stdout",
     "output_type": "stream",
     "text": [
      "apples has the value 430\n",
      "bananas has the value 312\n",
      "oranges has the value 525\n",
      "pears has the value 217\n"
     ]
    }
   ],
   "source": [
    "inventory = {'apples': 430, 'bananas': 312, 'oranges': 525, 'pears': 217}\n",
    "#print(inventory['oranges'])\n",
    "for key in inventory.keys():\n",
    "    print(key, \"has the value\",inventory[key])"
   ]
  },
  {
   "cell_type": "code",
   "execution_count": 15,
   "metadata": {},
   "outputs": [
    {
     "name": "stdout",
     "output_type": "stream",
     "text": [
      "['apples', 'bananas', 'oranges', 'pears']\n"
     ]
    }
   ],
   "source": [
    "keys = list(inventory.keys())\n",
    "print(keys)"
   ]
  },
  {
   "cell_type": "code",
   "execution_count": 18,
   "metadata": {},
   "outputs": [
    {
     "name": "stdout",
     "output_type": "stream",
     "text": [
      "[430, 312, 525, 217]\n",
      "[('apples', 430), ('bananas', 312), ('oranges', 525), ('pears', 217)]\n"
     ]
    }
   ],
   "source": [
    "print(list(inventory.values()))\n",
    "print(list(inventory.items()))"
   ]
  },
  {
   "cell_type": "code",
   "execution_count": 19,
   "metadata": {},
   "outputs": [
    {
     "name": "stdout",
     "output_type": "stream",
     "text": [
      "[('apples', 430), ('bananas', 312), ('oranges', 525), ('pears', 217)]\n"
     ]
    }
   ],
   "source": [
    "inventory_items = list(inventory.items())\n",
    "print(inventory_items)"
   ]
  },
  {
   "cell_type": "code",
   "execution_count": 22,
   "metadata": {},
   "outputs": [
    {
     "data": {
      "text/plain": [
       "312"
      ]
     },
     "execution_count": 22,
     "metadata": {},
     "output_type": "execute_result"
    }
   ],
   "source": [
    "inventory_items[1][1]"
   ]
  },
  {
   "cell_type": "code",
   "execution_count": 23,
   "metadata": {},
   "outputs": [
    {
     "name": "stdout",
     "output_type": "stream",
     "text": [
      "True\n"
     ]
    }
   ],
   "source": [
    "print('apples' in inventory)"
   ]
  },
  {
   "cell_type": "code",
   "execution_count": 24,
   "metadata": {},
   "outputs": [
    {
     "name": "stdout",
     "output_type": "stream",
     "text": [
      "False\n"
     ]
    }
   ],
   "source": [
    "print('cherries' in inventory)"
   ]
  },
  {
   "cell_type": "code",
   "execution_count": 25,
   "metadata": {},
   "outputs": [
    {
     "name": "stdout",
     "output_type": "stream",
     "text": [
      "430\n"
     ]
    }
   ],
   "source": [
    "print(inventory.get(\"apples\"))"
   ]
  },
  {
   "cell_type": "code",
   "execution_count": 26,
   "metadata": {},
   "outputs": [
    {
     "name": "stdout",
     "output_type": "stream",
     "text": [
      "430\n"
     ]
    }
   ],
   "source": [
    "print(inventory.get(\"apples\",1))"
   ]
  },
  {
   "cell_type": "code",
   "execution_count": 28,
   "metadata": {},
   "outputs": [
    {
     "name": "stdout",
     "output_type": "stream",
     "text": [
      "0\n"
     ]
    }
   ],
   "source": [
    "print(inventory.get(\"cherries\",0))"
   ]
  },
  {
   "cell_type": "code",
   "execution_count": 31,
   "metadata": {},
   "outputs": [
    {
     "name": "stdout",
     "output_type": "stream",
     "text": [
      "43\n"
     ]
    }
   ],
   "source": [
    "total = 0\n",
    "mydict = {\"cat\": 12, \"dog\": 6, \"elephant\":23,  \"bear\":20}\n",
    "\n",
    "for akey in mydict:\n",
    "    if len(akey) > 3:\n",
    "        total = total + mydict[akey]\n",
    "print(total)"
   ]
  },
  {
   "cell_type": "code",
   "execution_count": 33,
   "metadata": {},
   "outputs": [
    {
     "name": "stdout",
     "output_type": "stream",
     "text": [
      "True\n",
      "left\n"
     ]
    }
   ],
   "source": [
    "opposites = {'up': 'down', 'right': 'wrong', 'true': 'false'}\n",
    "alias = opposites\n",
    "\n",
    "print(alias is opposites)\n",
    "\n",
    "alias['right'] = 'left'\n",
    "print(opposites['right'])"
   ]
  },
  {
   "cell_type": "code",
   "execution_count": 34,
   "metadata": {},
   "outputs": [
    {
     "name": "stdout",
     "output_type": "stream",
     "text": [
      "2486662212344\n",
      "2486662212344\n"
     ]
    }
   ],
   "source": [
    "print(id(alias))\n",
    "print(id(opposites))"
   ]
  },
  {
   "cell_type": "code",
   "execution_count": 36,
   "metadata": {},
   "outputs": [
    {
     "name": "stdout",
     "output_type": "stream",
     "text": [
      "t: 32 occurrences.\n"
     ]
    }
   ],
   "source": [
    "f = open('lorem.txt', 'r')\n",
    "txt = f.read()\n",
    "\n",
    "t_count = 0\n",
    "for c in txt:\n",
    "    if c == 't':\n",
    "        t_count = t_count + 1\n",
    "print(\"t: \" + str(t_count)+\" occurrences.\")"
   ]
  },
  {
   "cell_type": "code",
   "execution_count": 37,
   "metadata": {},
   "outputs": [
    {
     "name": "stdout",
     "output_type": "stream",
     "text": [
      "t: 32 occurrences\n",
      "s: 18 occurrences\n"
     ]
    }
   ],
   "source": [
    "f = open('lorem.txt', 'r')\n",
    "txt = f.read()\n",
    "\n",
    "t_count = 0\n",
    "s_count = 0\n",
    "\n",
    "for c in txt:\n",
    "    if c == 't':\n",
    "        t_count = t_count + 1\n",
    "    elif c == 's':\n",
    "        s_count = s_count + 1\n",
    "print(\"t: \"+str(t_count)+\" occurrences\")\n",
    "print(\"s: \"+str(s_count)+\" occurrences\")\n"
   ]
  },
  {
   "cell_type": "code",
   "execution_count": 41,
   "metadata": {},
   "outputs": [
    {
     "name": "stdout",
     "output_type": "stream",
     "text": [
      "t: 32 occurrences.\n",
      "s: 18 occurrences.\n",
      "{'t': 32, 's': 18}\n"
     ]
    }
   ],
   "source": [
    "f = open('lorem.txt', 'r')\n",
    "txt = f.read()\n",
    "\n",
    "x = {}\n",
    "x['t'] = 0\n",
    "x['s'] = 0\n",
    "\n",
    "for c in txt:\n",
    "    if c == 't':\n",
    "        x['t'] = x['t'] + 1\n",
    "    elif c == 's':\n",
    "        x['s'] = x['s'] + 1\n",
    "\n",
    "print(\"t: \"+str(x['t']) + \" occurrences.\")\n",
    "print(\"s: \"+str(x['s']) + \" occurrences.\")\n",
    "print(x)"
   ]
  },
  {
   "cell_type": "code",
   "execution_count": 42,
   "metadata": {},
   "outputs": [
    {
     "name": "stdout",
     "output_type": "stream",
     "text": [
      "t: 32 occurrences.\n",
      "s: 18 occurrences.\n"
     ]
    }
   ],
   "source": [
    "f = open('lorem.txt', 'r')\n",
    "txt = f.read()\n",
    "\n",
    "x = {}\n",
    "x['t'] = 0\n",
    "x['s'] = 0\n",
    "\n",
    "for c in txt:\n",
    "    if c == 't':\n",
    "        x[c] = x[c] + 1\n",
    "    elif c == 's':\n",
    "        x[c] = x[c] + 1\n",
    "        \n",
    "print(\"t: \"+str(x['t'])+\" occurrences.\")\n",
    "print(\"s: \"+str(x['s'])+ \" occurrences.\")"
   ]
  },
  {
   "cell_type": "code",
   "execution_count": 44,
   "metadata": {},
   "outputs": [
    {
     "name": "stdout",
     "output_type": "stream",
     "text": [
      "t: 32 occurrences.\n",
      "s: 18 occurrences.\n",
      "{'L': 1, 'o': 29, 'r': 22, 'e': 37, 'm': 17, ' ': 68, 'i': 42, 'p': 11, 's': 18, 'u': 28, 'd': 18, 'l': 21, 't': 32, 'a': 29, ',': 4, 'c': 16, 'n': 24, 'g': 3, 'b': 3, 'q': 5, '.': 4, 'U': 1, 'v': 3, 'x': 3, 'D': 1, 'h': 1, 'f': 3, 'E': 1}\n"
     ]
    }
   ],
   "source": [
    "f = open('lorem.txt', 'r')\n",
    "txt = f.read()\n",
    "\n",
    "x = {}\n",
    "\n",
    "for c in txt:\n",
    "    if c not in x:\n",
    "        x[c] = 0\n",
    "    \n",
    "    x[c] = x[c] + 1\n",
    "    \n",
    "print(\"t: \"+str(x['t'])+\" occurrences.\")\n",
    "print(\"s: \"+str(x['s'])+ \" occurrences.\")\n",
    "print(x)"
   ]
  },
  {
   "cell_type": "code",
   "execution_count": 46,
   "metadata": {},
   "outputs": [
    {
     "name": "stdout",
     "output_type": "stream",
     "text": [
      "{'L': 1, 'o': 29, 'r': 22, 'e': 37, 'm': 17, ' ': 68, 'i': 42, 'p': 11, 's': 18, 'u': 28, 'd': 18, 'l': 21, 't': 32, 'a': 29, ',': 4, 'c': 16, 'n': 24, 'g': 3, 'b': 3, 'q': 5, '.': 4, 'U': 1, 'v': 3, 'x': 3, 'D': 1, 'h': 1, 'f': 3, 'E': 1}\n",
      "L: 1 occurrences\n",
      "o: 29 occurrences\n",
      "r: 22 occurrences\n",
      "e: 37 occurrences\n",
      "m: 17 occurrences\n",
      " : 68 occurrences\n",
      "i: 42 occurrences\n",
      "p: 11 occurrences\n",
      "s: 18 occurrences\n",
      "u: 28 occurrences\n",
      "d: 18 occurrences\n",
      "l: 21 occurrences\n",
      "t: 32 occurrences\n",
      "a: 29 occurrences\n",
      ",: 4 occurrences\n",
      "c: 16 occurrences\n",
      "n: 24 occurrences\n",
      "g: 3 occurrences\n",
      "b: 3 occurrences\n",
      "q: 5 occurrences\n",
      ".: 4 occurrences\n",
      "U: 1 occurrences\n",
      "v: 3 occurrences\n",
      "x: 3 occurrences\n",
      "D: 1 occurrences\n",
      "h: 1 occurrences\n",
      "f: 3 occurrences\n",
      "E: 1 occurrences\n"
     ]
    }
   ],
   "source": [
    "f = open(\"lorem.txt\", \"r\")\n",
    "txt = f.read()\n",
    "\n",
    "letter_counts = {}\n",
    "\n",
    "for c in txt:\n",
    "    if c not in letter_counts:\n",
    "        letter_counts[c] = 0\n",
    "        \n",
    "    letter_counts[c] = letter_counts[c] + 1\n",
    "\n",
    "print(letter_counts)\n",
    "\n",
    "for c in letter_counts.keys():\n",
    "    print(c + \": \"+str(letter_counts[c]) + \" occurrences\")"
   ]
  },
  {
   "cell_type": "code",
   "execution_count": 51,
   "metadata": {},
   "outputs": [
    {
     "name": "stdout",
     "output_type": "stream",
     "text": [
      "8\n",
      "['sed do eiusmod tempor incididunt ut labore et dolore magna\\n', 'aliqua. Ut enim ad minim veniam, quis nostrud exercitation\\n', 'ullamco laboris nisi ut aliquip ex ea commodo consequat.\\n']\n"
     ]
    }
   ],
   "source": [
    "f = open(\"lorem.txt\", \"r\")\n",
    "txt_lines = f.readlines()\n",
    "\n",
    "print(len(txt_lines))\n",
    "#print(txt_lines)\n",
    "print(txt_lines[1:4])"
   ]
  },
  {
   "cell_type": "code",
   "execution_count": 52,
   "metadata": {},
   "outputs": [
    {
     "name": "stdout",
     "output_type": "stream",
     "text": [
      "{'The': 1, 'dog': 1, 'chased': 1, 'the': 3, 'rabbit': 2, 'into': 1, 'forest': 1, 'but': 1, 'was': 1, 'too': 1, 'quick.': 1}\n"
     ]
    }
   ],
   "source": [
    "sentence = \"The dog chased the rabbit into the forest but the rabbit was too quick.\"\n",
    "words = sentence.split()\n",
    "word_counts = {}\n",
    "\n",
    "for word in words:\n",
    "    if word not in word_counts:\n",
    "        word_counts[word] = 0\n",
    "      \n",
    "    word_counts[word] = word_counts[word] + 1\n",
    "   \n",
    "print(word_counts)"
   ]
  },
  {
   "cell_type": "code",
   "execution_count": 53,
   "metadata": {},
   "outputs": [
    {
     "name": "stdout",
     "output_type": "stream",
     "text": [
      "{'w': 1, 'h': 1, 'a': 2, 't': 1, ' ': 3, 'c': 1, 'n': 1, 'I': 1, 'd': 1, 'o': 1}\n"
     ]
    }
   ],
   "source": [
    "stri = \"what can I do\"\n",
    "char_d = {}\n",
    "\n",
    "for c in stri:\n",
    "    if c not in char_d:\n",
    "        char_d[c] = 0\n",
    "    char_d[c] = char_d[c] + 1\n",
    "print(char_d)"
   ]
  },
  {
   "cell_type": "code",
   "execution_count": 1,
   "metadata": {},
   "outputs": [
    {
     "name": "stdout",
     "output_type": "stream",
     "text": [
      "There are 32 t's\n",
      "There are 18 s's\n"
     ]
    }
   ],
   "source": [
    "f = open('lorem.txt','r')\n",
    "txt = f.read()\n",
    "\n",
    "letter_counts = {}\n",
    "\n",
    "for c in txt:\n",
    "    if c not in letter_counts:\n",
    "        letter_counts[c] = 0\n",
    "        \n",
    "    letter_counts[c] = letter_counts[c] + 1\n",
    "    \n",
    "print(\"There are\",letter_counts['t'],\"t's\")\n",
    "print(\"There are\",letter_counts['s'],\"s's\")"
   ]
  },
  {
   "cell_type": "code",
   "execution_count": 3,
   "metadata": {},
   "outputs": [
    {
     "name": "stdout",
     "output_type": "stream",
     "text": [
      "There are 1 ' L 's\n",
      "There are 29 ' o 's\n",
      "There are 22 ' r 's\n",
      "There are 37 ' e 's\n",
      "There are 17 ' m 's\n",
      "There are 61 '   's\n",
      "There are 42 ' i 's\n",
      "There are 11 ' p 's\n",
      "There are 18 ' s 's\n",
      "There are 28 ' u 's\n",
      "There are 18 ' d 's\n",
      "There are 21 ' l 's\n",
      "There are 32 ' t 's\n",
      "There are 29 ' a 's\n",
      "There are 4 ' , 's\n",
      "There are 16 ' c 's\n",
      "There are 24 ' n 's\n",
      "There are 3 ' g 's\n",
      "There are 7 ' \n",
      " 's\n",
      "There are 3 ' b 's\n",
      "There are 5 ' q 's\n",
      "There are 4 ' . 's\n",
      "There are 1 ' U 's\n",
      "There are 3 ' v 's\n",
      "There are 3 ' x 's\n",
      "There are 1 ' D 's\n",
      "There are 1 ' h 's\n",
      "There are 3 ' f 's\n",
      "There are 1 ' E 's\n"
     ]
    }
   ],
   "source": [
    "f = open('lorem.txt','r')\n",
    "txt = f.read()\n",
    "\n",
    "letter_counts = {}\n",
    "\n",
    "for c in txt:\n",
    "    if c not in letter_counts:\n",
    "        letter_counts[c] = 0\n",
    "        \n",
    "    letter_counts[c] = letter_counts[c] + 1\n",
    "    \n",
    "for y in letter_counts:\n",
    "    print(\"There are\",letter_counts[y],\"'\",y,\"'s\")"
   ]
  },
  {
   "cell_type": "code",
   "execution_count": null,
   "metadata": {},
   "outputs": [],
   "source": []
  }
 ],
 "metadata": {
  "kernelspec": {
   "display_name": "Python 3",
   "language": "python",
   "name": "python3"
  },
  "language_info": {
   "codemirror_mode": {
    "name": "ipython",
    "version": 3
   },
   "file_extension": ".py",
   "mimetype": "text/x-python",
   "name": "python",
   "nbconvert_exporter": "python",
   "pygments_lexer": "ipython3",
   "version": "3.7.3"
  }
 },
 "nbformat": 4,
 "nbformat_minor": 2
}
